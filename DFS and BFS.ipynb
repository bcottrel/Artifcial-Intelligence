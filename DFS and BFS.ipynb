{
 "cells": [
  {
   "cell_type": "code",
   "execution_count": 4,
   "metadata": {},
   "outputs": [
    {
     "data": {
      "text/plain": [
       "{'A': ['B', 'C'],\n",
       " 'B': ['A', 'C', 'D'],\n",
       " 'C': ['A', 'B', 'D', 'E'],\n",
       " 'D': ['B', 'C', 'E', 'F'],\n",
       " 'E': ['C', 'D', 'F'],\n",
       " 'F': ['D', 'E']}"
      ]
     },
     "execution_count": 4,
     "metadata": {},
     "output_type": "execute_result"
    }
   ],
   "source": [
    "Graph = {\n",
    "   'A' : ['B','C'],\n",
    "   'B' : ['A','C','D'],\n",
    "   'C' : ['A','B','D','E'],\n",
    "   'D' : ['B','C','E','F'],\n",
    "   'E' : ['C','D','F'],\n",
    "   'F' : ['D','E']\n",
    "}\n",
    "Graph"
   ]
  },
  {
   "cell_type": "code",
   "execution_count": 36,
   "metadata": {},
   "outputs": [],
   "source": [
    "def BFS(Graph,node):\n",
    "    #make queue a empty list to keep track of nodes\n",
    "    queue = []\n",
    "    #add node to queue's list\n",
    "    queue.append(node)\n",
    "    #make new list to keep track of visted nodes\n",
    "    visited = set()\n",
    "    visited.add(node)\n",
    "    while queue:\n",
    "        #vertex is now node at the start of queue\n",
    "        vertex = queue.pop(0)\n",
    "        #uses vertex to make a list of nodes in graph\n",
    "        nodelist = Graph[vertex]\n",
    "        #for every node in nodelist\n",
    "        for node in nodelist:\n",
    "            #if the node hasn't been visited\n",
    "            if node not in visited:\n",
    "                #add new node to queue\n",
    "                queue.append(node)\n",
    "                #add same new node to visited list also\n",
    "                visited.add(node)\n",
    "        print(vertex)"
   ]
  },
  {
   "cell_type": "code",
   "execution_count": 37,
   "metadata": {},
   "outputs": [
    {
     "name": "stdout",
     "output_type": "stream",
     "text": [
      "A\n",
      "B\n",
      "C\n",
      "D\n",
      "E\n",
      "F\n"
     ]
    }
   ],
   "source": [
    "BFS(Graph,'A')"
   ]
  },
  {
   "cell_type": "code",
   "execution_count": 3,
   "metadata": {},
   "outputs": [],
   "source": [
    "def DFS(Graph,node):\n",
    "    #make a stack a empty list to keep track of nodes\n",
    "    stack = []\n",
    "    #add node to stack\n",
    "    stack.append(node)\n",
    "    #make new list to keep track of visted nodes\n",
    "    visited = set()\n",
    "    visited.add(node)\n",
    "    while stack:\n",
    "        #vertex is now the node at the end of stack and removed from stack\n",
    "        vertex = stack.pop()\n",
    "        #uses vertex to make a list of nodes in graph\n",
    "        nodelist = Graph[vertex]\n",
    "        #for every node in nodelist\n",
    "        for node in nodelist:\n",
    "            #if the node hasn't been visited\n",
    "            if node not in visited:\n",
    "                #add new node into stack\n",
    "                stack.append(node)\n",
    "                #add same new node to visited list also\n",
    "                visited.add(node)\n",
    "        print(vertex)"
   ]
  },
  {
   "cell_type": "code",
   "execution_count": 68,
   "metadata": {},
   "outputs": [
    {
     "name": "stdout",
     "output_type": "stream",
     "text": [
      "A\n",
      "C\n",
      "E\n",
      "F\n",
      "D\n",
      "B\n"
     ]
    }
   ],
   "source": [
    "DFS(Graph,'A')"
   ]
  },
  {
   "cell_type": "code",
   "execution_count": 114,
   "metadata": {},
   "outputs": [],
   "source": [
    "def dfs(visited, graph, node) :\n",
    "    #prints node if node is not found in visited\n",
    "    if node not in visited:\n",
    "        print (node)\n",
    "        #adds node to visited\n",
    "        visited.add(node)\n",
    "        #creates a new array called graph with node as it's elements and neighbor being an element\n",
    "        for neighbor in graph[node]:\n",
    "            #recursively call dfs with neighbor to advance the search \n",
    "            dfs(visited, Graph, neighbor)"
   ]
  },
  {
   "cell_type": "code",
   "execution_count": 115,
   "metadata": {},
   "outputs": [
    {
     "name": "stdout",
     "output_type": "stream",
     "text": [
      "A\n",
      "B\n",
      "C\n",
      "D\n",
      "E\n",
      "F\n"
     ]
    }
   ],
   "source": [
    "#make visited a empty set\n",
    "visited = set()\n",
    "dfs(visited,Graph,'A')"
   ]
  }
 ],
 "metadata": {
  "kernelspec": {
   "display_name": "Python 3",
   "language": "python",
   "name": "python3"
  },
  "language_info": {
   "codemirror_mode": {
    "name": "ipython",
    "version": 3
   },
   "file_extension": ".py",
   "mimetype": "text/x-python",
   "name": "python",
   "nbconvert_exporter": "python",
   "pygments_lexer": "ipython3",
   "version": "3.7.2"
  }
 },
 "nbformat": 4,
 "nbformat_minor": 2
}
